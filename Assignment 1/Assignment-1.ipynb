{
 "cells": [
  {
   "cell_type": "code",
   "execution_count": 1,
   "metadata": {},
   "outputs": [
    {
     "name": "stdout",
     "output_type": "stream",
     "text": [
      "           Airline Date_of_Journey    Source Destination Dep_Time  \\\n",
      "0           IndiGo      24/03/2019  Banglore   New Delhi    22:20   \n",
      "1        Air India        1/5/2019   Kolkata    Banglore     5:50   \n",
      "2      Jet Airways        9/6/2019     Delhi      Cochin     9:25   \n",
      "3           IndiGo       12/5/2019   Kolkata    Banglore    18:05   \n",
      "4           IndiGo        1/3/2019  Banglore   New Delhi    16:50   \n",
      "...            ...             ...       ...         ...      ...   \n",
      "10678     Air Asia        9/4/2019   Kolkata    Banglore    19:55   \n",
      "10679    Air India      27/04/2019   Kolkata    Banglore    20:45   \n",
      "10680  Jet Airways      27/04/2019  Banglore       Delhi     8:20   \n",
      "10681      Vistara        1/3/2019  Banglore   New Delhi    11:30   \n",
      "10682    Air India        9/5/2019     Delhi      Cochin    10:55   \n",
      "\n",
      "         Arrival_Time Duration Total_Stops  \n",
      "0      3/22/2023 1:10   2h 50m    non-stop  \n",
      "1               13:15   7h 25m     2 stops  \n",
      "2      6/10/2023 4:25      19h     2 stops  \n",
      "3               23:30   5h 25m      1 stop  \n",
      "4               21:35   4h 45m      1 stop  \n",
      "...               ...      ...         ...  \n",
      "10678           22:25   2h 30m    non-stop  \n",
      "10679           23:20   2h 35m    non-stop  \n",
      "10680           11:20       3h    non-stop  \n",
      "10681           14:10   2h 40m    non-stop  \n",
      "10682           19:15   8h 20m     2 stops  \n",
      "\n",
      "[10683 rows x 8 columns]\n",
      "       Airline Date_of_Journey    Source Destination Dep_Time    Arrival_Time  \\\n",
      "0       IndiGo      24/03/2019  Banglore   New Delhi    22:20  3/22/2023 1:10   \n",
      "1    Air India        1/5/2019   Kolkata    Banglore     5:50           13:15   \n",
      "2  Jet Airways        9/6/2019     Delhi      Cochin     9:25  6/10/2023 4:25   \n",
      "3       IndiGo       12/5/2019   Kolkata    Banglore    18:05           23:30   \n",
      "4       IndiGo        1/3/2019  Banglore   New Delhi    16:50           21:35   \n",
      "\n",
      "  Duration Total_Stops  \n",
      "0   2h 50m    non-stop  \n",
      "1   7h 25m     2 stops  \n",
      "2      19h     2 stops  \n",
      "3   5h 25m      1 stop  \n",
      "4   4h 45m      1 stop  \n",
      "   Price\n",
      "0   3897\n",
      "1   7662\n",
      "2  13882\n",
      "3   6218\n",
      "4  13302\n"
     ]
    },
    {
     "name": "stderr",
     "output_type": "stream",
     "text": [
      "\n",
      "[notice] A new release of pip available: 22.3.1 -> 23.1.2\n",
      "[notice] To update, run: python.exe -m pip install --upgrade pip\n"
     ]
    },
    {
     "name": "stdout",
     "output_type": "stream",
     "text": [
      "Requirement already satisfied: scikit-learn in c:\\users\\d brown\\appdata\\local\\programs\\python\\python311\\lib\\site-packages (1.2.1)\n",
      "Requirement already satisfied: numpy>=1.17.3 in c:\\users\\d brown\\appdata\\local\\programs\\python\\python311\\lib\\site-packages (from scikit-learn) (1.24.2)\n",
      "Requirement already satisfied: scipy>=1.3.2 in c:\\users\\d brown\\appdata\\local\\programs\\python\\python311\\lib\\site-packages (from scikit-learn) (1.10.1)\n",
      "Requirement already satisfied: joblib>=1.1.1 in c:\\users\\d brown\\appdata\\local\\programs\\python\\python311\\lib\\site-packages (from scikit-learn) (1.2.0)\n",
      "Requirement already satisfied: threadpoolctl>=2.0.0 in c:\\users\\d brown\\appdata\\local\\programs\\python\\python311\\lib\\site-packages (from scikit-learn) (3.1.0)\n"
     ]
    },
    {
     "name": "stderr",
     "output_type": "stream",
     "text": [
      "c:\\Users\\D Brown\\AppData\\Local\\Programs\\Python\\Python311\\Lib\\site-packages\\sklearn\\svm\\_base.py:1244: ConvergenceWarning: Liblinear failed to converge, increase the number of iterations.\n",
      "  warnings.warn(\n"
     ]
    },
    {
     "name": "stdout",
     "output_type": "stream",
     "text": [
      "Linear SVMs is 0.000000 percent accurate\n",
      "Random Forests is 27.983154 percent accurate\n",
      "Non Linear SVMs is 5.428170 percent accurate\n"
     ]
    },
    {
     "name": "stderr",
     "output_type": "stream",
     "text": [
      "c:\\Users\\D Brown\\AppData\\Local\\Programs\\Python\\Python311\\Lib\\site-packages\\sklearn\\svm\\_base.py:1244: ConvergenceWarning: Liblinear failed to converge, increase the number of iterations.\n",
      "  warnings.warn(\n",
      "c:\\Users\\D Brown\\AppData\\Local\\Programs\\Python\\Python311\\Lib\\site-packages\\sklearn\\svm\\_base.py:1244: ConvergenceWarning: Liblinear failed to converge, increase the number of iterations.\n",
      "  warnings.warn(\n",
      "c:\\Users\\D Brown\\AppData\\Local\\Programs\\Python\\Python311\\Lib\\site-packages\\sklearn\\svm\\_base.py:1244: ConvergenceWarning: Liblinear failed to converge, increase the number of iterations.\n",
      "  warnings.warn(\n",
      "c:\\Users\\D Brown\\AppData\\Local\\Programs\\Python\\Python311\\Lib\\site-packages\\sklearn\\svm\\_base.py:1244: ConvergenceWarning: Liblinear failed to converge, increase the number of iterations.\n",
      "  warnings.warn(\n",
      "c:\\Users\\D Brown\\AppData\\Local\\Programs\\Python\\Python311\\Lib\\site-packages\\sklearn\\svm\\_base.py:1244: ConvergenceWarning: Liblinear failed to converge, increase the number of iterations.\n",
      "  warnings.warn(\n"
     ]
    },
    {
     "name": "stdout",
     "output_type": "stream",
     "text": [
      "Accuracy score in each iteration: [0.0, 0.0, 0.0, 0.0, 0.0]\n",
      "Stratified K-Fold Score: 0.0\n",
      "Accuracy score in each iteration: [0.0, 0.0, 0.0, 0.0, 0.0, 0.2802994852597099, 0.26158165652784277, 0.258306036499766, 0.26672905942910624, 0.2634534394010295]\n",
      "K-Fold Score: 0.13303696771174545\n"
     ]
    },
    {
     "name": "stderr",
     "output_type": "stream",
     "text": [
      "c:\\Users\\D Brown\\AppData\\Local\\Programs\\Python\\Python311\\Lib\\site-packages\\sklearn\\model_selection\\_split.py:700: UserWarning: The least populated class in y has only 1 members, which is less than n_splits=5.\n",
      "  warnings.warn(\n"
     ]
    },
    {
     "name": "stdout",
     "output_type": "stream",
     "text": [
      "Accuracy score in each iteration: [0.0, 0.0, 0.0, 0.0, 0.0, 0.2802994852597099, 0.26158165652784277, 0.258306036499766, 0.26672905942910624, 0.2634534394010295, 0.270004679457183, 0.26017781937295276, 0.26579316799251285, 0.2587739822180627, 0.2573701450631727]\n",
      "Stratified K-Fold Score: 0.17616596474808918\n"
     ]
    },
    {
     "name": "stderr",
     "output_type": "stream",
     "text": [
      "c:\\Users\\D Brown\\AppData\\Local\\Programs\\Python\\Python311\\Lib\\site-packages\\sklearn\\model_selection\\_split.py:700: UserWarning: The least populated class in y has only 1 members, which is less than n_splits=5.\n",
      "  warnings.warn(\n",
      "c:\\Users\\D Brown\\AppData\\Local\\Programs\\Python\\Python311\\Lib\\site-packages\\sklearn\\svm\\_base.py:1244: ConvergenceWarning: Liblinear failed to converge, increase the number of iterations.\n",
      "  warnings.warn(\n",
      "c:\\Users\\D Brown\\AppData\\Local\\Programs\\Python\\Python311\\Lib\\site-packages\\sklearn\\svm\\_base.py:1244: ConvergenceWarning: Liblinear failed to converge, increase the number of iterations.\n",
      "  warnings.warn(\n",
      "c:\\Users\\D Brown\\AppData\\Local\\Programs\\Python\\Python311\\Lib\\site-packages\\sklearn\\svm\\_base.py:1244: ConvergenceWarning: Liblinear failed to converge, increase the number of iterations.\n",
      "  warnings.warn(\n",
      "c:\\Users\\D Brown\\AppData\\Local\\Programs\\Python\\Python311\\Lib\\site-packages\\sklearn\\svm\\_base.py:1244: ConvergenceWarning: Liblinear failed to converge, increase the number of iterations.\n",
      "  warnings.warn(\n"
     ]
    },
    {
     "name": "stdout",
     "output_type": "stream",
     "text": [
      "Accuracy score in each iteration: [0.0, 0.0, 0.0, 0.0, 0.0, 0.2802994852597099, 0.26158165652784277, 0.258306036499766, 0.26672905942910624, 0.2634534394010295, 0.270004679457183, 0.26017781937295276, 0.26579316799251285, 0.2587739822180627, 0.2573701450631727, 0.0, 0.0, 0.0, 0.0, 0.0]\n",
      "Stratified K-Fold Score: 0.13212447356106694\n"
     ]
    },
    {
     "name": "stderr",
     "output_type": "stream",
     "text": [
      "c:\\Users\\D Brown\\AppData\\Local\\Programs\\Python\\Python311\\Lib\\site-packages\\sklearn\\svm\\_base.py:1244: ConvergenceWarning: Liblinear failed to converge, increase the number of iterations.\n",
      "  warnings.warn(\n"
     ]
    }
   ],
   "source": [
    "import pandas as pd\n",
    "import numpy as np\n",
    "Airport_Data_Train=pd.read_csv(\"Airport_Data_Train.csv\")\n",
    "Airport_Data_Train.head()\n",
    "#Airport_Data_Train=Airport_Data_Train.drop(['Airline', 'Date_of_Journey', 'Total_Stops',\n",
    "#'Route','Additional_Info','Dep_Time','Arrival_Time','Duration'], axis=1)\n",
    "Airport_Data_Train_cat = Airport_Data_Train.select_dtypes(object)\n",
    "Airport_Data_Train_num= Airport_Data_Train.select_dtypes(np.number)\n",
    "Airport_Data_Train_cat.drop(['Route','Additional_Info'], axis=1, inplace=True)\n",
    "print(Airport_Data_Train_cat)\n",
    "print(Airport_Data_Train_cat.head())\n",
    "print(Airport_Data_Train_num.head()) \n",
    "!pip install scikit-learn\n",
    "from sklearn.preprocessing import LabelEncoder\n",
    "le = LabelEncoder()\n",
    "Airport_Data_Train_cat = Airport_Data_Train_cat.apply(le.fit_transform)\n",
    "Airport_Data_Train_final = pd.concat([Airport_Data_Train_cat,Airport_Data_Train_num],axis=1)\n",
    "Airport_Data_Train_final.head()\n",
    "from sklearn.ensemble import RandomForestClassifier\n",
    "from sklearn.svm import SVC\n",
    "from sklearn.svm import LinearSVC\n",
    "from sklearn.metrics import accuracy_score\n",
    "from sklearn.model_selection import StratifiedKFold\n",
    "X = Airport_Data_Train_final.drop(['Price'], axis=1)\n",
    "Y = Airport_Data_Train_final['Price']\n",
    "X_train = np.array(X[0:int(0.80*len(X))])\n",
    "Y_train = np.array(Y[0:int(0.80*len(Y))])\n",
    "X_test = np.array(X[int(0.80*len(X)):])\n",
    "Y_test = np.array(Y[int(0.80*len(Y)):])\n",
    "LSVM = LinearSVC()\n",
    "RF = RandomForestClassifier()\n",
    "NLSVM = SVC(kernel='rbf')\n",
    "LSVM_fit = LSVM.fit(X_train, Y_train)\n",
    "RF_fit = RF.fit(X_train, Y_train)\n",
    "NLSVM_fit = NLSVM.fit(X_train, Y_train)\n",
    "LSVM_pred = LSVM_fit.predict(X_test)\n",
    "RF_pred = RF_fit.predict(X_test)\n",
    "NLSVM_pred = NLSVM_fit.predict(X_test)\n",
    "print(\"Linear SVMs is %f percent accurate\" % (accuracy_score(LSVM_pred, Y_test)*100))\n",
    "print(\"Random Forests is %f percent accurate\" % (accuracy_score(RF_pred, Y_test)*100))\n",
    "print(\"Non Linear SVMs is %f percent accurate\" % (accuracy_score(NLSVM_pred, Y_test)*100))\n",
    "from sklearn.model_selection import train_test_split\n",
    "from sklearn.model_selection import KFold\n",
    "seed=0\n",
    "cv = KFold(n_splits=5,random_state=2, shuffle=True)\n",
    "cv = KFold(n_splits=5,random_state=2, shuffle=True)\n",
    "cv = KFold(n_splits=5,random_state=2, shuffle=True)\n",
    "def return_score(model,X_train, X_test, y_train, y_test):\n",
    "   model.fit(X_train, y_train)\n",
    "   score = model.score(X_test, y_test)\n",
    "   return score\n",
    "scores = []\n",
    "model = LinearSVC()\n",
    "for train_index, test_index in cv.split(X,Y):\n",
    "   X_train, X_test, y_train, y_test = train_test_split(X,Y,test_size=0.2)\n",
    "   score = return_score(model,X_train, X_test, y_train, y_test)   \n",
    "   scores.append(score)\n",
    "print(\"Accuracy score in each iteration: {}\".format(scores))\n",
    "print(\"Stratified K-Fold Score: {}\".format(np.mean(scores)))\n",
    "model = RandomForestClassifier()\n",
    "for train_index, test_index in cv.split(X,Y):\n",
    "   X_train, X_test, y_train, y_test = train_test_split(X,Y,test_size=0.2)\n",
    "   score = return_score(model,X_train, X_test, y_train, y_test)\n",
    "   scores.append(score)\n",
    "print(\"Accuracy score in each iteration: {}\".format(scores))\n",
    "print(\"K-Fold Score: {}\".format(np.mean(scores)))\n",
    "cv = StratifiedKFold(n_splits=5,random_state=2, shuffle=True)\n",
    "model = RandomForestClassifier()\n",
    "for train_index, test_index in cv.split(X,Y):\n",
    "   X_train, X_test, y_train, y_test = train_test_split(X,Y,test_size=0.2)\n",
    "   score = return_score(model,X_train, X_test, y_train, y_test)   \n",
    "   scores.append(score)\n",
    "print(\"Accuracy score in each iteration: {}\".format(scores))\n",
    "print(\"Stratified K-Fold Score: {}\".format(np.mean(scores)))\n",
    "model = LinearSVC()\n",
    "for train_index, test_index in cv.split(X,Y):\n",
    "   X_train, X_test, y_train, y_test = train_test_split(X,Y,test_size=0.2)\n",
    "   score = return_score(model,X_train, X_test, y_train, y_test)   \n",
    "   scores.append(score)\n",
    "print(\"Accuracy score in each iteration: {}\".format(scores))\n",
    "print(\"Stratified K-Fold Score: {}\".format(np.mean(scores)))\n"
   ]
  }
 ],
 "metadata": {
  "kernelspec": {
   "display_name": "Python 3",
   "language": "python",
   "name": "python3"
  },
  "language_info": {
   "codemirror_mode": {
    "name": "ipython",
    "version": 3
   },
   "file_extension": ".py",
   "mimetype": "text/x-python",
   "name": "python",
   "nbconvert_exporter": "python",
   "pygments_lexer": "ipython3",
   "version": "3.11.2"
  },
  "orig_nbformat": 4
 },
 "nbformat": 4,
 "nbformat_minor": 2
}
