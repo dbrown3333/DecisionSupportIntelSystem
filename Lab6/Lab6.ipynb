{
 "cells": [
  {
   "cell_type": "code",
   "execution_count": null,
   "metadata": {},
   "outputs": [],
   "source": []
  }
 ],
 "metadata": {
  "kernelspec": {
   "display_name": "Python 3",
   "language": "python",
   "name": "python3"
  },
  "language_info": {
   "name": "python",
   "version": "3.11.2"
  },
  "orig_nbformat": 4,
  "vscode": {
   "interpreter": {
    "hash": "1e8e84b766143f215bbb984621b387d2633606dace1d294fbbfb5d0948b719bd"
   }
  }
 },
 "nbformat": 4,
 "nbformat_minor": 2
}
